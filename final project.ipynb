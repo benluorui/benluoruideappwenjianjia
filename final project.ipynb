{
 "cells": [
  {
   "cell_type": "markdown",
   "metadata": {},
   "source": [
    "# Assignment 1\n",
    "\n",
    "You need to complete the following programs."
   ]
  },
  {
   "cell_type": "markdown",
   "metadata": {},
   "source": [
    "## Questions 1\n",
    "\n",
    "complete this markdown cell"
   ]
  },
  {
   "cell_type": "markdown",
   "metadata": {},
   "source": [
    "# Question 2\n",
    "\n",
    "Develop a simple saving calculator with the following requirements:\n",
    "\n",
    "- an input function must be used to ask users to enter the initial deposit\n",
    "- the user input must be stored as a variable - you may need to do type conversion\n",
    "- the balance must be a variable, whose value is the total balance after 10 years with fixed interest rate of 8%\n",
    "- a print function must be used to return the result to the user - you may need to do type conversion"
   ]
  },
  {
   "cell_type": "code",
   "execution_count": 2,
   "metadata": {},
   "outputs": [
    {
     "name": "stdout",
     "output_type": "stream",
     "text": [
      "Requirement already satisfied: kaggle in d:\\deliveryoptimization\\cache\\envs\\ds\\lib\\site-packages (1.7.4.5)\n",
      "Requirement already satisfied: bleach in d:\\deliveryoptimization\\cache\\envs\\ds\\lib\\site-packages (from kaggle) (6.2.0)\n",
      "Requirement already satisfied: certifi>=14.05.14 in d:\\deliveryoptimization\\cache\\envs\\ds\\lib\\site-packages (from kaggle) (2025.8.3)\n",
      "Requirement already satisfied: charset-normalizer in d:\\deliveryoptimization\\cache\\envs\\ds\\lib\\site-packages (from kaggle) (3.4.3)\n",
      "Requirement already satisfied: idna in d:\\deliveryoptimization\\cache\\envs\\ds\\lib\\site-packages (from kaggle) (3.10)\n",
      "Requirement already satisfied: protobuf in d:\\deliveryoptimization\\cache\\envs\\ds\\lib\\site-packages (from kaggle) (6.33.0)\n",
      "Requirement already satisfied: python-dateutil>=2.5.3 in d:\\deliveryoptimization\\cache\\envs\\ds\\lib\\site-packages (from kaggle) (2.9.0.post0)\n",
      "Requirement already satisfied: python-slugify in d:\\deliveryoptimization\\cache\\envs\\ds\\lib\\site-packages (from kaggle) (8.0.4)\n",
      "Requirement already satisfied: requests in d:\\deliveryoptimization\\cache\\envs\\ds\\lib\\site-packages (from kaggle) (2.32.5)\n",
      "Requirement already satisfied: setuptools>=21.0.0 in d:\\deliveryoptimization\\cache\\envs\\ds\\lib\\site-packages (from kaggle) (78.1.1)\n",
      "Requirement already satisfied: six>=1.10 in d:\\deliveryoptimization\\cache\\envs\\ds\\lib\\site-packages (from kaggle) (1.17.0)\n",
      "Requirement already satisfied: text-unidecode in d:\\deliveryoptimization\\cache\\envs\\ds\\lib\\site-packages (from kaggle) (1.3)\n",
      "Requirement already satisfied: tqdm in d:\\deliveryoptimization\\cache\\envs\\ds\\lib\\site-packages (from kaggle) (4.67.1)\n",
      "Requirement already satisfied: urllib3>=1.15.1 in d:\\deliveryoptimization\\cache\\envs\\ds\\lib\\site-packages (from kaggle) (2.5.0)\n",
      "Requirement already satisfied: webencodings in d:\\deliveryoptimization\\cache\\envs\\ds\\lib\\site-packages (from kaggle) (0.5.1)\n",
      "Requirement already satisfied: colorama in d:\\deliveryoptimization\\cache\\envs\\ds\\lib\\site-packages (from tqdm->kaggle) (0.4.6)\n",
      "Dataset URL: https://www.kaggle.com/datasets/yasserh/uber-fares-dataset\n",
      "License(s): CC0-1.0\n",
      "uber-fares-dataset.zip: Skipping, found more recently modified local copy (use --force to force download)\n",
      "数据集已成功保存为CSV文件：uber.csv\n"
     ]
    }
   ],
   "source": [
    "# 安装kaggle库（如果未安装）\n",
    "!pip install kaggle --upgrade\n",
    "\n",
    "import os\n",
    "import json\n",
    "import zipfile\n",
    "\n",
    "# 配置Kaggle API的认证信息\n",
    "kaggle_info = {\n",
    "    \"username\": \"zhijiazhou\",\n",
    "    \"key\": \"ba4f99327f8bd265c669d06eabe0be8b\"\n",
    "}\n",
    "\n",
    "# 创建.kaggle目录（如果不存在）\n",
    "kaggle_dir = os.path.expanduser(\"~/.kaggle\")\n",
    "os.makedirs(kaggle_dir, exist_ok=True)\n",
    "\n",
    "# 写入kaggle.json配置文件\n",
    "kaggle_json_path = os.path.join(kaggle_dir, \"kaggle.json\")\n",
    "with open(kaggle_json_path, \"w\") as f:\n",
    "    json.dump(kaggle_info, f)\n",
    "\n",
    "# 设置文件权限（避免安全警告）\n",
    "os.chmod(kaggle_json_path, 0o600)\n",
    "\n",
    "# 下载数据集（使用Kaggle API命令）\n",
    "dataset_url = \"yasserh/uber-fares-dataset\"  # 从URL提取的数据集路径\n",
    "!kaggle datasets download -d {dataset_url}\n",
    "\n",
    "# 解压下载的zip文件\n",
    "zip_filename = \"uber-fares-dataset.zip\"\n",
    "with zipfile.ZipFile(zip_filename, 'r') as zip_ref:\n",
    "    zip_ref.extractall()\n",
    "\n",
    "# 验证文件是否存在\n",
    "csv_filename = \"uber.csv\"\n",
    "if os.path.exists(csv_filename):\n",
    "    print(f\"数据集已成功保存为CSV文件：{csv_filename}\")\n",
    "else:\n",
    "    print(\"数据集下载或解压失败\")"
   ]
  }
 ],
 "metadata": {
  "kernelspec": {
   "display_name": "ds",
   "language": "python",
   "name": "python3"
  },
  "language_info": {
   "codemirror_mode": {
    "name": "ipython",
    "version": 3
   },
   "file_extension": ".py",
   "mimetype": "text/x-python",
   "name": "python",
   "nbconvert_exporter": "python",
   "pygments_lexer": "ipython3",
   "version": "3.13.7"
  },
  "orig_nbformat": 4
 },
 "nbformat": 4,
 "nbformat_minor": 2
}
